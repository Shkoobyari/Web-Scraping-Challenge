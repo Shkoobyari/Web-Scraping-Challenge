{
 "cells": [
  {
   "cell_type": "code",
   "execution_count": 47,
   "metadata": {},
   "outputs": [],
   "source": [
    "from bs4 import BeautifulSoup as bs\n",
    "from splinter import Browser\n",
    "from webdriver_manager.chrome import ChromeDriverManager\n",
    "import requests\n",
    "import pandas as pd\n",
    "from selenium import webdriver\n",
    "import cssutils\n",
    "import time\n",
    "url = \"https://mars.nasa.gov/news/\"\n",
    "final_dict = {}"
   ]
  },
  {
   "cell_type": "code",
   "execution_count": 49,
   "metadata": {},
   "outputs": [
    {
     "name": "stderr",
     "output_type": "stream",
     "text": [
      "[WDM] - Current google-chrome version is 87.0.4280\n",
      "[WDM] - Get LATEST driver version for 87.0.4280\n",
      "[WDM] - Driver [/Users/joshuagendal/.wdm/drivers/chromedriver/mac64/87.0.4280.20/chromedriver] found in cache\n"
     ]
    },
    {
     "name": "stdout",
     "output_type": "stream",
     "text": [
      " \n",
      "MOXIE Could Help Future Rockets Launch Off Mars\n",
      "NASA's Perseverance rover carries a device to convert Martian air into oxygen that, if produced on a larger scale, could be used not just for breathing, but also for fuel.\n"
     ]
    },
    {
     "data": {
      "text/plain": [
       "{'news_title': 'MOXIE Could Help Future Rockets Launch Off Mars',\n",
       " 'news_p': \"NASA's Perseverance rover carries a device to convert Martian air into oxygen that, if produced on a larger scale, could be used not just for breathing, but also for fuel.\"}"
      ]
     },
     "execution_count": 49,
     "metadata": {},
     "output_type": "execute_result"
    }
   ],
   "source": [
    "executable_path = {'executable_path': ChromeDriverManager().install()}\n",
    "browser = Browser('chrome', **executable_path, headless=False)\n",
    "browser.visit(url)\n",
    "time.sleep(3)\n",
    "html = browser.html\n",
    "soup = bs(html, 'html.parser')\n",
    "# print(soup.prettify())\n",
    "content_title_div = soup.find('div', class_='list_text')\n",
    "news_title = content_title_div.find('div', class_='content_title').a.text\n",
    "print(news_title)\n",
    "news_p = content_title_div.find('div', 'article_teaser_body').text\n",
    "print(news_p)\n",
    "final_dict['news_title'] = news_title\n",
    "final_dict['news_p'] = news_p\n",
    "final_dict"
   ]
  },
  {
   "cell_type": "code",
   "execution_count": 3,
   "metadata": {},
   "outputs": [],
   "source": [
    "# executable_path = {'executable_path': ChromeDriverManager().install()}\n",
    "# browser = Browser('chrome', **executable_path, headless=False)\n",
    "# browser.visit(url)\n",
    "# html = browser.html\n",
    "# soup = bs(html, 'html.parser')\n",
    "# soup\n",
    "# driver = webdriver.Chrome(executable_path='C:/chromedriver.exe')\n",
    "# driver = webdriver.Chrome()\n",
    "# driver.get(url)\n",
    "# driver.page_source\n",
    "# driver = webdriver.Chrome(ChromeDriverManager().install())\n",
    "# driver.get(url)\n",
    "\n",
    "# soup = bs(driver.page_source, 'html.parser')\n",
    "# soup.prettify()"
   ]
  },
  {
   "cell_type": "code",
   "execution_count": 4,
   "metadata": {},
   "outputs": [],
   "source": [
    "# divs = soup.find_all('div', class_=\"content_title\")\n",
    "# for i in divs:\n",
    "#     print(i)"
   ]
  },
  {
   "cell_type": "code",
   "execution_count": 5,
   "metadata": {},
   "outputs": [
    {
     "name": "stderr",
     "output_type": "stream",
     "text": [
      "[WDM] - Current google-chrome version is 87.0.4280\n",
      "[WDM] - Get LATEST driver version for 87.0.4280\n",
      "[WDM] - Driver [/Users/joshuagendal/.wdm/drivers/chromedriver/mac64/87.0.4280.20/chromedriver] found in cache\n"
     ]
    },
    {
     "name": "stdout",
     "output_type": "stream",
     "text": [
      " \n",
      "https://www.jpl.nasa.gov/spaceimages/images/mediumsize/PIA14627_ip.jpg\n",
      "{'featured_img_url': 'https://www.jpl.nasa.gov/spaceimages/images/mediumsize/PIA14627_ip.jpg'}\n"
     ]
    }
   ],
   "source": [
    "# Get featured image URL\n",
    "url = 'https://www.jpl.nasa.gov/spaceimages/?search=&category=Mars'\n",
    "executable_path = {'executable_path': ChromeDriverManager().install()}\n",
    "browser = Browser('chrome', **executable_path, headless=False)\n",
    "browser.visit(url)\n",
    "browser.click_link_by_id(\"full_image\")\n",
    "time.sleep(6)\n",
    "html = browser.html\n",
    "soup = bs(html, 'html.parser')\n",
    "img = soup.find('img', class_='fancybox-image')\n",
    "img_src = img['src']\n",
    "featured_image_url = 'https://www.jpl.nasa.gov' + img_src\n",
    "print(featured_image_url)\n",
    "final_dict['featured_img_url'] = featured_image_url\n",
    "print(final_dict)"
   ]
  },
  {
   "cell_type": "code",
   "execution_count": 7,
   "metadata": {},
   "outputs": [
    {
     "name": "stdout",
     "output_type": "stream",
     "text": [
      "{'featured_img_url': 'https://www.jpl.nasa.gov/spaceimages/images/mediumsize/PIA14627_ip.jpg', 'table_html': '<table border=\"1\" class=\"dataframe\">\\n  <thead>\\n    <tr style=\"text-align: right;\">\\n      <th></th>\\n      <th>Attribute</th>\\n      <th>Mars</th>\\n    </tr>\\n  </thead>\\n  <tbody>\\n    <tr>\\n      <th>0</th>\\n      <td>Diameter:</td>\\n      <td>6,779 km</td>\\n    </tr>\\n    <tr>\\n      <th>1</th>\\n      <td>Mass:</td>\\n      <td>6.39 × 10^23 kg</td>\\n    </tr>\\n    <tr>\\n      <th>2</th>\\n      <td>Moons:</td>\\n      <td>2</td>\\n    </tr>\\n    <tr>\\n      <th>3</th>\\n      <td>Distance from Sun:</td>\\n      <td>227,943,824 km</td>\\n    </tr>\\n    <tr>\\n      <th>4</th>\\n      <td>Length of Year:</td>\\n      <td>687 Earth days</td>\\n    </tr>\\n    <tr>\\n      <th>5</th>\\n      <td>Temperature:</td>\\n      <td>-87 to -5 °C</td>\\n    </tr>\\n  </tbody>\\n</table>'}\n"
     ]
    }
   ],
   "source": [
    "url = \"https://space-facts.com/mars/\"\n",
    "d = pd.read_html(url)\n",
    "df = pd.DataFrame({})\n",
    "df['Attribute'] = d[1]['Mars - Earth Comparison']\n",
    "df['Mars'] = d[1]['Mars']\n",
    "table_html = df.to_html()\n",
    "table_html\n",
    "final_dict['table_html'] = table_html\n",
    "print(final_dict)"
   ]
  },
  {
   "cell_type": "code",
   "execution_count": 9,
   "metadata": {},
   "outputs": [
    {
     "name": "stdout",
     "output_type": "stream",
     "text": [
      "{'featured_img_url': 'https://www.jpl.nasa.gov/spaceimages/images/mediumsize/PIA14627_ip.jpg', 'table_html': '<table border=\"1\" class=\"dataframe\">\\n  <thead>\\n    <tr style=\"text-align: right;\">\\n      <th></th>\\n      <th>Attribute</th>\\n      <th>Mars</th>\\n    </tr>\\n  </thead>\\n  <tbody>\\n    <tr>\\n      <th>0</th>\\n      <td>Diameter:</td>\\n      <td>6,779 km</td>\\n    </tr>\\n    <tr>\\n      <th>1</th>\\n      <td>Mass:</td>\\n      <td>6.39 × 10^23 kg</td>\\n    </tr>\\n    <tr>\\n      <th>2</th>\\n      <td>Moons:</td>\\n      <td>2</td>\\n    </tr>\\n    <tr>\\n      <th>3</th>\\n      <td>Distance from Sun:</td>\\n      <td>227,943,824 km</td>\\n    </tr>\\n    <tr>\\n      <th>4</th>\\n      <td>Length of Year:</td>\\n      <td>687 Earth days</td>\\n    </tr>\\n    <tr>\\n      <th>5</th>\\n      <td>Temperature:</td>\\n      <td>-87 to -5 °C</td>\\n    </tr>\\n  </tbody>\\n</table>', 'hemisphere_img_urls': [{'title': 'Cerberus Hemisphere', 'img_url': 'https://astrogeology.usgs.gov/cache/images/f5e372a36edfa389625da6d0cc25d905_cerberus_enhanced.tif_full.jpg'}, {'title': 'Schiaparelli Hemisphere', 'img_url': 'https://astrogeology.usgs.gov/cache/images/3778f7b43bbbc89d6e3cfabb3613ba93_schiaparelli_enhanced.tif_full.jpg'}, {'title': 'Syrtis Major Hemisphere', 'img_url': 'https://astrogeology.usgs.gov/cache/images/555e6403a6ddd7ba16ddb0e471cadcf7_syrtis_major_enhanced.tif_full.jpg'}, {'title': 'Valles Marineris Hemisphere', 'img_url': 'https://astrogeology.usgs.gov/cache/images/b3c7c6c9138f57b4756be9b9c43e3a48_valles_marineris_enhanced.tif_full.jpg'}]}\n"
     ]
    }
   ],
   "source": [
    "url = \"https://astrogeology.usgs.gov/search/results?q=hemisphere+enhanced&k1=target&v1=Mars\"\n",
    "browser.visit(url)\n",
    "links = browser.find_link_by_partial_href('enhanced')\n",
    "final_links = []\n",
    "for i in links:\n",
    "    if final_links.count(i['href']) == 0:\n",
    "        final_links.append(i['href'])\n",
    "    else:\n",
    "        pass\n",
    "# print(final_links)\n",
    "hemisphere_img_urls = []\n",
    "main_url = 'https://astrogeology.usgs.gov'\n",
    "for i in final_links:\n",
    "    browser.visit(i)\n",
    "    html = browser.html\n",
    "    soup = bs(html, 'html.parser')\n",
    "    img = soup.find('img', class_='wide-image')\n",
    "    img_src = img['src']\n",
    "    img_url = main_url + img_src\n",
    "    hemisphere_title = soup.find('h2', class_='title').text\n",
    "    final_title = hemisphere_title.rsplit(' ', 1)[0]\n",
    "    hemisphere_img_urls.append({\n",
    "        \"title\": final_title,\n",
    "        \"img_url\": img_url\n",
    "    })\n",
    "final_dict['hemisphere_img_urls'] = hemisphere_img_urls\n",
    "print(final_dict)"
   ]
  },
  {
   "cell_type": "code",
   "execution_count": null,
   "metadata": {},
   "outputs": [],
   "source": []
  }
 ],
 "metadata": {
  "kernelspec": {
   "display_name": "Python 3",
   "language": "python",
   "name": "python3"
  },
  "language_info": {
   "codemirror_mode": {
    "name": "ipython",
    "version": 3
   },
   "file_extension": ".py",
   "mimetype": "text/x-python",
   "name": "python",
   "nbconvert_exporter": "python",
   "pygments_lexer": "ipython3",
   "version": "3.8.3"
  }
 },
 "nbformat": 4,
 "nbformat_minor": 4
}
